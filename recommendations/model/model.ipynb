{
 "cells": [
  {
   "cell_type": "code",
   "execution_count": 2,
   "metadata": {},
   "outputs": [],
   "source": [
    "import pandas as pd\n",
    "import numpy as np\n",
    "from sklearn.metrics.pairwise import cosine_similarity\n",
    "from sklearn.preprocessing import StandardScaler"
   ]
  },
  {
   "cell_type": "code",
   "execution_count": 3,
   "metadata": {},
   "outputs": [],
   "source": [
    "# Load the restaurant dataset for collaborative filtering\n",
    "df_restaurants = pd.read_csv('../data/cleaned_restaurants.csv')"
   ]
  },
  {
   "cell_type": "code",
   "execution_count": null,
   "metadata": {},
   "outputs": [
    {
     "name": "stdout",
     "output_type": "stream",
     "text": [
      "Recommended Restaurants: ['s30pUay0opzvriFweACWEA', 'BZUlza2S5sfavO6UsS5mNQ', 'woXVP3vViYzJ-I7jwWS5Og', 'gWE14ed0pcUlQo2IETmFmQ', '9_g3DU-5BnpTH1DC1kIe-w']\n"
     ]
    }
   ],
   "source": [
    "import pandas as pd\n",
    "import numpy as np\n",
    "# Load your data (assumes a CSV file with the columns as described)\n",
    "df = pd.read_csv('../data/cleaned_restaurants.csv')\n",
    "\n",
    "# Separate out the different feature types.\n",
    "# Here we assume:\n",
    "#   - The first three columns after business_id are latitude, longitude, and stars.\n",
    "#   - The remaining columns are binary indicators for each restaurant category.\n",
    "\n",
    "# Save the business IDs for later use.\n",
    "business_ids = df['business_id']\n",
    "\n",
    "# Create a DataFrame of the numerical features.\n",
    "num_features = df[['latitude', 'longitude', 'stars']]\n",
    "\n",
    "# And a DataFrame of the categorical features.\n",
    "cat_features = df.drop(['business_id', 'latitude', 'longitude', 'stars'], axis=1)\n",
    "\n",
    "# Scale numerical features so that they are on a comparable scale.\n",
    "scaler = StandardScaler()\n",
    "num_features_scaled = scaler.fit_transform(num_features)\n",
    "\n",
    "# You might want to weight the different parts differently.\n",
    "# For example, if you feel geographic location should have more influence, adjust its weight.\n",
    "weight_num = 1.0  # overall weight for latitude, longitude, stars\n",
    "weight_cat = 1.0  # overall weight for category info\n",
    "\n",
    "# Combine the numerical and categorical features into one feature matrix.\n",
    "# (Here the categorical features are left as 0/1. Adjust weight_cat if you want to scale them.)\n",
    "combined_features = np.hstack([num_features_scaled * weight_num, cat_features.values * weight_cat])\n",
    "\n",
    "# Compute the pairwise cosine similarity matrix between restaurants.\n",
    "sim_matrix = cosine_similarity(combined_features)\n",
    "\n",
    "# Define a recommendation function.\n",
    "def recommend_restaurants(liked_ids, disliked_ids, df, sim_matrix, top_n=5):\n",
    "    \"\"\"\n",
    "    Recommend restaurants based on both liked and disliked restaurants.\n",
    "\n",
    "    liked_ids: list of business_id strings that the user likes.\n",
    "    disliked_ids: list of business_id strings that the user dislikes.\n",
    "    df: the original DataFrame.\n",
    "    sim_matrix: precomputed similarity matrix between restaurants.\n",
    "    top_n: number of recommendations to return.\n",
    "    \"\"\"\n",
    "    # Get indices for liked and disliked restaurants.\n",
    "    liked_indices = df.index[df['business_id'].isin(liked_ids)].tolist()\n",
    "    disliked_indices = df.index[df['business_id'].isin(disliked_ids)].tolist()\n",
    "    \n",
    "    # Compute average similarity scores from liked restaurants.\n",
    "    if liked_indices:\n",
    "        liked_sim = sim_matrix[liked_indices].mean(axis=0)\n",
    "    else:\n",
    "        liked_sim = np.zeros(sim_matrix.shape[0])\n",
    "    \n",
    "    # Compute average similarity scores from disliked restaurants.\n",
    "    if disliked_indices:\n",
    "        disliked_sim = sim_matrix[disliked_indices].mean(axis=0)\n",
    "    else:\n",
    "        disliked_sim = np.zeros(sim_matrix.shape[0])\n",
    "    \n",
    "    # Calculate the net score by subtracting the disliked similarity from liked similarity.\n",
    "    net_scores = liked_sim - disliked_sim\n",
    "    \n",
    "    # Exclude already rated restaurants (both liked and disliked).\n",
    "    for idx in liked_indices + disliked_indices:\n",
    "        net_scores[idx] = -np.inf\n",
    "    \n",
    "    # Get indices of the top recommended restaurants.\n",
    "    rec_indices = np.argsort(net_scores)[::-1][:top_n]\n",
    "    \n",
    "    return df.iloc[rec_indices]['business_id'].tolist()"
   ]
  },
  {
   "cell_type": "code",
   "execution_count": 12,
   "metadata": {},
   "outputs": [
    {
     "name": "stdout",
     "output_type": "stream",
     "text": [
      "Recommended Restaurants: ['s30pUay0opzvriFweACWEA', 'BZUlza2S5sfavO6UsS5mNQ', 'woXVP3vViYzJ-I7jwWS5Og', 'gWE14ed0pcUlQo2IETmFmQ', '9_g3DU-5BnpTH1DC1kIe-w']\n",
      "Liked Restaurant Names:\n",
      "0    St Honore Pastries\n",
      "Name: name, dtype: object\n",
      "Disliked Restaurant Names:\n",
      "3    Sonic Drive-In\n",
      "Name: name, dtype: object\n",
      "Recommended Restaurant Names:\n",
      "921               ICED by Betsy\n",
      "12419             Simply Sherry\n",
      "20468    MOTW Coffee & Pastries\n",
      "25001             Pie Lady Cafe\n",
      "26073              Essen Bakery\n",
      "Name: name, dtype: object\n"
     ]
    }
   ],
   "source": [
    "# Example usage:\n",
    "# Assume the user has a favorite restaurant with business_id 'MTSW4McQd7CbVtyjqoe9mw'\n",
    "liked_ids = ['MTSW4McQd7CbVtyjqoe9mw']\n",
    "disliked_ids = ['bBDDEgkFA1Otx9Lfe7BZUQ']\n",
    "recommendations = recommend_restaurants(liked_ids, disliked_ids, df, sim_matrix, top_n=5)\n",
    "restaurant_full_data = pd.read_json('../data/cleaned_restaurants.json', lines=True)\n",
    "print(\"Recommended Restaurants:\", recommendations)\n",
    "# Print liked restaurant names:\n",
    "print(\"Liked Restaurant Names:\")\n",
    "print(restaurant_full_data[df_restaurants['business_id'].isin(liked_ids)]['name'])\n",
    "# Print disliked restaurant names:\n",
    "print(\"Disliked Restaurant Names:\")\n",
    "print(restaurant_full_data[df_restaurants['business_id'].isin(disliked_ids)]['name'])\n",
    "# Print recommendation Names\n",
    "print(\"Recommended Restaurant Names:\")\n",
    "print(restaurant_full_data[df_restaurants['business_id'].isin(recommendations)]['name'])"
   ]
  }
 ],
 "metadata": {
  "kernelspec": {
   "display_name": "binge",
   "language": "python",
   "name": "python3"
  },
  "language_info": {
   "codemirror_mode": {
    "name": "ipython",
    "version": 3
   },
   "file_extension": ".py",
   "mimetype": "text/x-python",
   "name": "python",
   "nbconvert_exporter": "python",
   "pygments_lexer": "ipython3",
   "version": "3.12.9"
  }
 },
 "nbformat": 4,
 "nbformat_minor": 2
}
