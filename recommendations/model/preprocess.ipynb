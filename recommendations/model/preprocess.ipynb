{
 "cells": [
  {
   "cell_type": "code",
   "execution_count": 2,
   "metadata": {},
   "outputs": [],
   "source": [
    "import json\n",
    "import numpy as np\n",
    "import pandas as pd"
   ]
  },
  {
   "cell_type": "code",
   "execution_count": 10,
   "metadata": {},
   "outputs": [],
   "source": [
    "photo_datalist = []\n",
    "with open('../data/photos.json', 'r') as file:\n",
    "    for line in file:\n",
    "        data = json.loads(line)\n",
    "        photo_datalist.append(data)\n",
    "\n",
    "restaurant_datalist = []\n",
    "with open('../data/yelp_academic_dataset_business.json', 'r') as file:\n",
    "    for line in file:\n",
    "        data = json.loads(line)\n",
    "        restaurant_datalist.append(data)\n",
    "        "
   ]
  },
  {
   "cell_type": "code",
   "execution_count": 11,
   "metadata": {},
   "outputs": [],
   "source": [
    "# clean photos\n",
    "# create dataframe\n",
    "picture_df = pd.DataFrame(photo_datalist)\n",
    "restaurant_df = pd.DataFrame(restaurant_datalist)\n",
    "\n"
   ]
  },
  {
   "cell_type": "code",
   "execution_count": 12,
   "metadata": {},
   "outputs": [
    {
     "name": "stdout",
     "output_type": "stream",
     "text": [
      "Number of food establishments: 26435\n",
      "Number of photos for food establishments: 43037\n",
      "\n",
      "Sample categories in filtered dataset:\n",
      "81179                                         Food, Grocery\n",
      "83841     Food, Sandwiches, Restaurants, Ice Cream & Fro...\n",
      "9719                     Fast Food, Sandwiches, Restaurants\n",
      "137339                          Food, Southern, Restaurants\n",
      "49820     Fast Food, Coffee & Tea, Food, Restaurants, Bu...\n",
      "Name: categories, dtype: object\n"
     ]
    }
   ],
   "source": [
    "# clean restaurants\n",
    "food_related_terms = ['Restaurant', 'Food', 'Bakeries', 'Cafes', 'Dessert', \n",
    "                     'Coffee', 'Tea', 'Bars', 'Diner', 'Bistro', 'Pizzeria']\n",
    "\n",
    "# Create a regex pattern that matches any of the food terms\n",
    "pattern = '|'.join(food_related_terms)\n",
    "\n",
    "# Filter businesses with food-related categories\n",
    "restaurant_df = restaurant_df[restaurant_df['categories'].notna()]\n",
    "restaurant_df = restaurant_df[restaurant_df['categories'].str.contains(pattern, case=False)]\n",
    "\n",
    "# # NEW: Exclude additional non-food related businesses\n",
    "non_food_terms = '|'.join(['Salon', 'Barber', 'Gym', 'Spa', 'Theater', 'Nightlife', 'Beauty', 'Barbershop', \"Active Life\",\n",
    "    \"Automotive\",\n",
    "    \"Beauty & Spas\",\n",
    "    \"Home Services\",\n",
    "    \"Health & Medical\",\n",
    "    \"Hotels & Travel\",\n",
    "    \"Local Services\",\n",
    "    \"Professional Services\",\n",
    "    \"Public Services & Government\",\n",
    "    \"Real Estate\",\n",
    "    \"Religious Organizations\",\n",
    "    \"Shopping & Retail\",\n",
    "    \"Transportation\",\n",
    "    \"Arts & Entertainment\",\n",
    "    \"Event Planning & Services\",\n",
    "    \"Education\",\n",
    "    \"Financial Services\",\n",
    "    \"Nightlife\",\n",
    "    \"Pets & Animal Services\",\n",
    "    \"Sports & Recreation\",\n",
    "    \"Miscellaneous Services\"\n",
    "])\n",
    "restaurant_df = restaurant_df[~restaurant_df['categories'].str.contains(non_food_terms, case=False, na=False)]\n",
    "restaurant_df = restaurant_df[restaurant_df['categories'].str.contains('Food')]\n",
    "# clean photos dataset\n",
    "picture_df = picture_df[picture_df['label'] != 'inside']\n",
    "picture_df = picture_df[picture_df['label'] != 'outside']\n",
    "picture_df = picture_df[picture_df['label'] != 'menu']\n",
    "\n",
    "# Keep only photos that belong to the filtered restaurants\n",
    "picture_df = picture_df[picture_df['business_id'].isin(restaurant_df['business_id'])]\n",
    "\n",
    "# Print statistics\n",
    "print(\"Number of food establishments:\", len(restaurant_df))\n",
    "print(\"Number of photos for food establishments:\", len(picture_df))\n",
    "print(\"\\nSample categories in filtered dataset:\")\n",
    "print(restaurant_df['categories'].sample(5))\n",
    "\n"
   ]
  },
  {
   "cell_type": "code",
   "execution_count": 13,
   "metadata": {},
   "outputs": [
    {
     "name": "stdout",
     "output_type": "stream",
     "text": [
      "Validation Results:\n",
      "Total pictures: 43037\n",
      "Pictures with valid restaurant links: 43037\n",
      "Pictures with invalid restaurant links: 0\n",
      "\n",
      "All pictures are linked to valid restaurants!\n",
      "Index(['business_id', 'name', 'address', 'city', 'state', 'postal_code',\n",
      "       'categories', 'latitude', 'longitude', 'stars'],\n",
      "      dtype='object')\n"
     ]
    }
   ],
   "source": [
    "# New cell for validation\n",
    "# Check if all pictures link to valid restaurants\n",
    "valid_business_ids = set(restaurant_df['business_id'])\n",
    "invalid_pictures = picture_df[~picture_df['business_id'].isin(valid_business_ids)]\n",
    "\n",
    "print(\"Validation Results:\")\n",
    "print(f\"Total pictures: {len(picture_df)}\")\n",
    "print(f\"Pictures with valid restaurant links: {len(picture_df) - len(invalid_pictures)}\")\n",
    "print(f\"Pictures with invalid restaurant links: {len(invalid_pictures)}\")\n",
    "\n",
    "if len(invalid_pictures) > 0:\n",
    "    print(\"\\nSample of invalid picture entries:\")\n",
    "    print(invalid_pictures.head())\n",
    "else:\n",
    "    print(\"\\nAll pictures are linked to valid restaurants!\")\n",
    "\n",
    "# Optional: Remove any invalid pictures if found\n",
    "if len(invalid_pictures) > 0:\n",
    "    picture_df = picture_df[picture_df['business_id'].isin(valid_business_ids)]\n",
    "    print(f\"\\nCleaned dataset now contains {len(picture_df)} valid pictures\")\n",
    "\n",
    "restaurant_df = restaurant_df[['business_id', 'name', 'address', 'city', 'state', 'postal_code', 'categories', 'latitude', 'longitude', 'stars']]\n",
    "print(restaurant_df.columns)\n",
    "\n"
   ]
  },
  {
   "cell_type": "code",
   "execution_count": 14,
   "metadata": {},
   "outputs": [],
   "source": [
    "# encode categories column as binary features and update the restaurant dataframe\n",
    "# keep business_id, latitude, longitude, stars, and category columns for use in the recommender system\n",
    "categories = restaurant_df['categories'].str.get_dummies(sep=', ')\n",
    "restaurant_df = pd.concat([restaurant_df, categories], axis=1)\n",
    "restaurant_df.drop(columns=['categories'], inplace=True)"
   ]
  },
  {
   "cell_type": "code",
   "execution_count": 15,
   "metadata": {},
   "outputs": [
    {
     "name": "stdout",
     "output_type": "stream",
     "text": [
      "Index(['business_id', 'name', 'address', 'city', 'state', 'postal_code',\n",
      "       'latitude', 'longitude', 'stars', 'Acai Bowls',\n",
      "       ...\n",
      "       'Vinyl Records', 'Vitamins & Supplements', 'Waffles', 'Water Stores',\n",
      "       'Wholesale Stores', 'Wigs', 'Wine & Spirits', 'Women's Clothing',\n",
      "       'Wraps', 'Yelp Events'],\n",
      "      dtype='object', length=328)\n",
      "               business_id                      name              address  \\\n",
      "3   MTSW4McQd7CbVtyjqoe9mw        St Honore Pastries          935 Race St   \n",
      "4   mWMc6_wTdE0EUBKIGXDVfA  Perkiomen Valley Brewery        101 Walnut St   \n",
      "5   CF33F8-E6oudUQ46HnavjQ            Sonic Drive-In        615 S Main St   \n",
      "9   bBDDEgkFA1Otx9Lfe7BZUQ            Sonic Drive-In  2312 Dickerson Pike   \n",
      "11  eEOYSgkmpB90uNA7lDOMRA     Vietnamese Food Truck                        \n",
      "\n",
      "            city state postal_code   latitude  longitude  stars  Acai Bowls  \\\n",
      "3   Philadelphia    PA       19107  39.955505 -75.155564    4.0           0   \n",
      "4     Green Lane    PA       18054  40.338183 -75.471659    4.5           0   \n",
      "5   Ashland City    TN       37015  36.269593 -87.058943    2.0           0   \n",
      "9      Nashville    TN       37207  36.208102 -86.768170    1.5           0   \n",
      "11     Tampa Bay    FL       33602  27.955269 -82.456320    4.0           0   \n",
      "\n",
      "    ...  Vinyl Records  Vitamins & Supplements  Waffles  Water Stores  \\\n",
      "3   ...              0                       0        0             0   \n",
      "4   ...              0                       0        0             0   \n",
      "5   ...              0                       0        0             0   \n",
      "9   ...              0                       0        0             0   \n",
      "11  ...              0                       0        0             0   \n",
      "\n",
      "    Wholesale Stores  Wigs  Wine & Spirits  Women's Clothing  Wraps  \\\n",
      "3                  0     0               0                 0      0   \n",
      "4                  0     0               0                 0      0   \n",
      "5                  0     0               0                 0      0   \n",
      "9                  0     0               0                 0      0   \n",
      "11                 0     0               0                 0      0   \n",
      "\n",
      "    Yelp Events  \n",
      "3             0  \n",
      "4             0  \n",
      "5             0  \n",
      "9             0  \n",
      "11            0  \n",
      "\n",
      "[5 rows x 328 columns]\n",
      "(26435, 328)\n"
     ]
    }
   ],
   "source": [
    "print(restaurant_df.columns)\n",
    "print(restaurant_df.head(5))\n",
    "print(restaurant_df.shape)"
   ]
  },
  {
   "cell_type": "code",
   "execution_count": 16,
   "metadata": {},
   "outputs": [],
   "source": [
    "# # save the cleaned datasets as csv's for use in the recommender system\n",
    "# # save the cleaned datasets as jsons to store in database\n",
    "restaurant_df_model_training = restaurant_df.copy().drop(columns=['name', 'address', 'city', 'state', 'postal_code'])\n",
    "picture_df.to_csv('../data/cleaned_photos.csv', index=False)\n",
    "\n",
    "restaurant_df_database = restaurant_df.copy()\n",
    "picture_df.to_json('../data/cleaned_photos.json', orient='records', lines=True)\n",
    "\n",
    "restaurant_df_database.to_json('../data/cleaned_restaurants.json', orient='records', lines=True)\n",
    "restaurant_df_model_training.to_csv('../data/cleaned_restaurants.csv', index=False)"
   ]
  },
  {
   "cell_type": "code",
   "execution_count": 17,
   "metadata": {},
   "outputs": [
    {
     "name": "stdout",
     "output_type": "stream",
     "text": [
      "Remaining photos in the folder: 39212\n"
     ]
    }
   ],
   "source": [
    "# parse photos folder and remove any photos that are not in the cleaned dataset\n",
    "import os\n",
    "\n",
    "# Create a set of valid photo IDs\n",
    "valid_photo_ids = set(picture_df['photo_id'])\n",
    "\n",
    "# Define the path to the photos folder\n",
    "photos_folder = '../data/photos'\n",
    "\n",
    "# Iterate over all files in the photos folder\n",
    "for filename in os.listdir(photos_folder):\n",
    "    # Extract the photo ID from the filename\n",
    "    photo_id = filename.split('.')[0]\n",
    "    \n",
    "    # Check if the photo ID is not in the valid set\n",
    "    if photo_id not in valid_photo_ids:\n",
    "        # Construct the full path to the file\n",
    "        file_path = os.path.join(photos_folder, filename)\n",
    "        \n",
    "        # Remove the file\n",
    "        os.remove(file_path)\n",
    "        print(f\"Removed invalid photo: {filename}\")\n",
    "        \n",
    "# Check the number of photos in the folder\n",
    "print(f\"Remaining photos in the folder: {len(os.listdir(photos_folder))}\")"
   ]
  }
 ],
 "metadata": {
  "kernelspec": {
   "display_name": "binge",
   "language": "python",
   "name": "python3"
  },
  "language_info": {
   "codemirror_mode": {
    "name": "ipython",
    "version": 3
   },
   "file_extension": ".py",
   "mimetype": "text/x-python",
   "name": "python",
   "nbconvert_exporter": "python",
   "pygments_lexer": "ipython3",
   "version": "3.12.9"
  }
 },
 "nbformat": 4,
 "nbformat_minor": 2
}
